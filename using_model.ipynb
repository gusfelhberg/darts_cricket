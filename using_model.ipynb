{
 "metadata": {
  "language_info": {
   "codemirror_mode": {
    "name": "ipython",
    "version": 3
   },
   "file_extension": ".py",
   "mimetype": "text/x-python",
   "name": "python",
   "nbconvert_exporter": "python",
   "pygments_lexer": "ipython3",
   "version": "3.8.8-final"
  },
  "orig_nbformat": 2,
  "kernelspec": {
   "name": "python3",
   "display_name": "Python 3.8.8 64-bit ('base')",
   "metadata": {
    "interpreter": {
     "hash": "09ea31edf6839c41c717f02a0a8dd3014729afe2e9182a2fe5ed8f2f1070ce8b"
    }
   }
  }
 },
 "nbformat": 4,
 "nbformat_minor": 2,
 "cells": [
  {
   "cell_type": "code",
   "execution_count": 51,
   "metadata": {},
   "outputs": [],
   "source": [
    "from darts_DQL import DQN"
   ]
  },
  {
   "cell_type": "code",
   "execution_count": 60,
   "metadata": {},
   "outputs": [],
   "source": [
    "action_space = { \n",
    "    0: [25, 1],\n",
    "    1: [25, 2],\n",
    "    2: [1, 2],\n",
    "    3: [1, 3],\n",
    "    4: [2, 2],\n",
    "    5: [2, 3],\n",
    "    6: [3, 2],\n",
    "    7: [3, 3],\n",
    "    8: [4, 2],\n",
    "    9: [4, 3],\n",
    "    10: [5, 2],\n",
    "    11: [5, 3],\n",
    "    12: [6, 2],\n",
    "    13: [6, 3],\n",
    "    14: [7, 2],\n",
    "    15: [7, 3],\n",
    "    16: [8, 2],\n",
    "    17: [8, 3],\n",
    "    18: [9, 2],\n",
    "    19: [9, 3],\n",
    "    20: [10, 2],\n",
    "    21: [10, 3],\n",
    "    22: [11, 2],\n",
    "    23: [11, 3],\n",
    "    24: [12, 2],\n",
    "    25: [12, 3],\n",
    "    26: [13, 2],\n",
    "    27: [13, 3],\n",
    "    28: [14, 2],\n",
    "    29: [14, 3],\n",
    "    30: [15, 1],\n",
    "    31: [15, 2],\n",
    "    32: [15, 3],\n",
    "    33: [16, 1],\n",
    "    34: [16, 2],\n",
    "    35: [16, 3],\n",
    "    36: [17, 1],\n",
    "    37: [17, 2],\n",
    "    38: [17, 3],\n",
    "    39: [18, 1],\n",
    "    40: [18, 2],\n",
    "    41: [18, 3],\n",
    "    42: [19, 1],\n",
    "    43: [19, 2],\n",
    "    44: [19, 3],\n",
    "    45: [20, 1],\n",
    "    46: [20, 2],\n",
    "    47: [20, 3],\n",
    "}"
   ]
  },
  {
   "cell_type": "code",
   "execution_count": 61,
   "metadata": {},
   "outputs": [],
   "source": [
    "state_space = 5\n",
    "agent = DQN(len(action_space.keys()),state_space)"
   ]
  },
  {
   "cell_type": "code",
   "execution_count": 62,
   "metadata": {},
   "outputs": [],
   "source": [
    "import keras\n",
    "import numpy as np"
   ]
  },
  {
   "cell_type": "code",
   "execution_count": 63,
   "metadata": {},
   "outputs": [],
   "source": [
    "model = keras.models.load_model('models/darts-episode-50.model')"
   ]
  },
  {
   "cell_type": "code",
   "execution_count": 64,
   "metadata": {},
   "outputs": [],
   "source": [
    "state_space = 5\n",
    "board = [3,3,1,1,0,0,0,0,0,3,3,3,3,1,0,0,0,0]\n",
    "completed = [1,1,0,0,0,0,0,0,0,1,1,1,1,0,0,0,0,0]\n",
    "scoring = [0,0,0,1,0,0,0,0,0,0,0,0,1,1,1,0,0,0]\n",
    "current_scores = [100,115]\n",
    "darts_to_finish = [5,3]\n",
    "\n",
    "state = [board , completed , scoring , current_scores , darts_to_finish]\n",
    "state = np.reshape(state, (1, state_space))"
   ]
  },
  {
   "cell_type": "code",
   "execution_count": 65,
   "metadata": {},
   "outputs": [
    {
     "output_type": "execute_result",
     "data": {
      "text/plain": [
       "array([[list([3, 3, 1, 1, 0, 0, 0, 0, 0, 3, 3, 3, 3, 1, 0, 0, 0, 0]),\n",
       "        list([1, 1, 0, 0, 0, 0, 0, 0, 0, 1, 1, 1, 1, 0, 0, 0, 0, 0]),\n",
       "        list([0, 0, 0, 1, 0, 0, 0, 0, 0, 0, 0, 0, 1, 1, 1, 0, 0, 0]),\n",
       "        list([100, 115]), list([5, 3])]], dtype=object)"
      ]
     },
     "metadata": {},
     "execution_count": 65
    }
   ],
   "source": [
    "state"
   ]
  },
  {
   "cell_type": "code",
   "execution_count": 73,
   "metadata": {},
   "outputs": [
    {
     "output_type": "execute_result",
     "data": {
      "text/plain": [
       "(16, 3)"
      ]
     },
     "metadata": {},
     "execution_count": 73
    }
   ],
   "source": [
    "next_action_id = agent.act(state)\n",
    "next_aim = action_space[next_action_id][0]\n",
    "next_aim_mult = action_space[next_action_id][1]\n",
    "next_aim, next_aim_mult"
   ]
  },
  {
   "cell_type": "code",
   "execution_count": null,
   "metadata": {},
   "outputs": [],
   "source": []
  }
 ]
}